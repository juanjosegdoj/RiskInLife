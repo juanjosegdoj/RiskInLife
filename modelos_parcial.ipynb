{
 "cells": [
  {
   "cell_type": "code",
   "execution_count": 1,
   "metadata": {},
   "outputs": [
    {
     "name": "stderr",
     "output_type": "stream",
     "text": [
      "/home/juanjosegdoj/miniconda3/lib/python3.7/site-packages/sklearn/externals/joblib/__init__.py:15: DeprecationWarning: sklearn.externals.joblib is deprecated in 0.21 and will be removed in 0.23. Please import this functionality directly from joblib, which can be installed with: pip install joblib. If this warning is raised when loading pickled models, you may need to re-serialize those models with scikit-learn 0.21+.\n",
      "  warnings.warn(msg, category=DeprecationWarning)\n"
     ]
    }
   ],
   "source": [
    "import numpy as np\n",
    "import pandas as pd\n",
    "from time import time\n",
    "import matplotlib.pyplot as plt\n",
    "\n",
    "from sklearn.metrics import fbeta_score\n",
    "from sklearn.externals import joblib\n",
    "from sklearn.model_selection import GridSearchCV\n",
    "from sklearn.model_selection import train_test_split\n",
    "from sklearn.metrics import fbeta_score\n",
    "from sklearn.metrics import confusion_matrix\n",
    "from sklearn.ensemble import RandomForestClassifier\n",
    "from mlxtend.classifier import StackingClassifier\n",
    "\n",
    "import itertools\n",
    "import warnings\n",
    "\n",
    "warnings.filterwarnings(action='once')\n",
    "\n",
    "%matplotlib inline\n",
    "pd.set_option('display.max_colwidth', -1)"
   ]
  },
  {
   "cell_type": "code",
   "execution_count": 2,
   "metadata": {},
   "outputs": [
    {
     "data": {
      "text/html": [
       "<div>\n",
       "<style scoped>\n",
       "    .dataframe tbody tr th:only-of-type {\n",
       "        vertical-align: middle;\n",
       "    }\n",
       "\n",
       "    .dataframe tbody tr th {\n",
       "        vertical-align: top;\n",
       "    }\n",
       "\n",
       "    .dataframe thead th {\n",
       "        text-align: right;\n",
       "    }\n",
       "</style>\n",
       "<table border=\"1\" class=\"dataframe\">\n",
       "  <thead>\n",
       "    <tr style=\"text-align: right;\">\n",
       "      <th></th>\n",
       "      <th>TRIM_enc</th>\n",
       "      <th>PQR_CANAL_enc</th>\n",
       "      <th>PET_TIPOPER_enc</th>\n",
       "      <th>PET_DPTO_enc</th>\n",
       "      <th>PET_MPIO_enc</th>\n",
       "      <th>PQR_TIPOPETICION_enc</th>\n",
       "      <th>AFEC_TIPOPER_enc</th>\n",
       "      <th>AFEC_PARENTESCO_enc</th>\n",
       "      <th>AFEC_GENERO_enc</th>\n",
       "      <th>AFEC_EDADR_enc</th>\n",
       "      <th>...</th>\n",
       "      <th>ENT_MPIO_DANE_enc</th>\n",
       "      <th>PQR_CLASE_SNS_enc</th>\n",
       "      <th>MACROMOTIVO_enc</th>\n",
       "      <th>MOTIVO_GENERAL_enc</th>\n",
       "      <th>MOTIVO_ESPECIFICO_enc</th>\n",
       "      <th>PATOLOGIA_1_enc</th>\n",
       "      <th>PATOLOGIA_TIPO_enc</th>\n",
       "      <th>CIE_10_enc</th>\n",
       "      <th>PQR_TIPOATENCION_enc</th>\n",
       "      <th>RIESGO_VIDA_enc</th>\n",
       "    </tr>\n",
       "  </thead>\n",
       "  <tbody>\n",
       "    <tr>\n",
       "      <td>0</td>\n",
       "      <td>0</td>\n",
       "      <td>6</td>\n",
       "      <td>1</td>\n",
       "      <td>1</td>\n",
       "      <td>109</td>\n",
       "      <td>3</td>\n",
       "      <td>1</td>\n",
       "      <td>10</td>\n",
       "      <td>0</td>\n",
       "      <td>4</td>\n",
       "      <td>...</td>\n",
       "      <td>514</td>\n",
       "      <td>0</td>\n",
       "      <td>6</td>\n",
       "      <td>33</td>\n",
       "      <td>101</td>\n",
       "      <td>16</td>\n",
       "      <td>392</td>\n",
       "      <td>6513</td>\n",
       "      <td>2</td>\n",
       "      <td>0</td>\n",
       "    </tr>\n",
       "    <tr>\n",
       "      <td>1</td>\n",
       "      <td>0</td>\n",
       "      <td>8</td>\n",
       "      <td>1</td>\n",
       "      <td>1</td>\n",
       "      <td>639</td>\n",
       "      <td>3</td>\n",
       "      <td>1</td>\n",
       "      <td>10</td>\n",
       "      <td>1</td>\n",
       "      <td>5</td>\n",
       "      <td>...</td>\n",
       "      <td>514</td>\n",
       "      <td>0</td>\n",
       "      <td>6</td>\n",
       "      <td>33</td>\n",
       "      <td>101</td>\n",
       "      <td>16</td>\n",
       "      <td>392</td>\n",
       "      <td>6513</td>\n",
       "      <td>2</td>\n",
       "      <td>0</td>\n",
       "    </tr>\n",
       "    <tr>\n",
       "      <td>2</td>\n",
       "      <td>0</td>\n",
       "      <td>10</td>\n",
       "      <td>1</td>\n",
       "      <td>1</td>\n",
       "      <td>639</td>\n",
       "      <td>3</td>\n",
       "      <td>1</td>\n",
       "      <td>11</td>\n",
       "      <td>1</td>\n",
       "      <td>8</td>\n",
       "      <td>...</td>\n",
       "      <td>514</td>\n",
       "      <td>0</td>\n",
       "      <td>6</td>\n",
       "      <td>33</td>\n",
       "      <td>101</td>\n",
       "      <td>16</td>\n",
       "      <td>392</td>\n",
       "      <td>6513</td>\n",
       "      <td>2</td>\n",
       "      <td>0</td>\n",
       "    </tr>\n",
       "    <tr>\n",
       "      <td>3</td>\n",
       "      <td>1</td>\n",
       "      <td>8</td>\n",
       "      <td>1</td>\n",
       "      <td>1</td>\n",
       "      <td>639</td>\n",
       "      <td>3</td>\n",
       "      <td>1</td>\n",
       "      <td>10</td>\n",
       "      <td>1</td>\n",
       "      <td>8</td>\n",
       "      <td>...</td>\n",
       "      <td>514</td>\n",
       "      <td>0</td>\n",
       "      <td>6</td>\n",
       "      <td>33</td>\n",
       "      <td>101</td>\n",
       "      <td>16</td>\n",
       "      <td>392</td>\n",
       "      <td>6513</td>\n",
       "      <td>2</td>\n",
       "      <td>0</td>\n",
       "    </tr>\n",
       "    <tr>\n",
       "      <td>4</td>\n",
       "      <td>1</td>\n",
       "      <td>10</td>\n",
       "      <td>1</td>\n",
       "      <td>1</td>\n",
       "      <td>639</td>\n",
       "      <td>3</td>\n",
       "      <td>1</td>\n",
       "      <td>10</td>\n",
       "      <td>1</td>\n",
       "      <td>3</td>\n",
       "      <td>...</td>\n",
       "      <td>514</td>\n",
       "      <td>0</td>\n",
       "      <td>6</td>\n",
       "      <td>33</td>\n",
       "      <td>101</td>\n",
       "      <td>16</td>\n",
       "      <td>392</td>\n",
       "      <td>6513</td>\n",
       "      <td>2</td>\n",
       "      <td>0</td>\n",
       "    </tr>\n",
       "  </tbody>\n",
       "</table>\n",
       "<p>5 rows × 33 columns</p>\n",
       "</div>"
      ],
      "text/plain": [
       "   TRIM_enc  PQR_CANAL_enc  PET_TIPOPER_enc  PET_DPTO_enc  PET_MPIO_enc  \\\n",
       "0  0         6              1                1             109            \n",
       "1  0         8              1                1             639            \n",
       "2  0         10             1                1             639            \n",
       "3  1         8              1                1             639            \n",
       "4  1         10             1                1             639            \n",
       "\n",
       "   PQR_TIPOPETICION_enc  AFEC_TIPOPER_enc  AFEC_PARENTESCO_enc  \\\n",
       "0  3                     1                 10                    \n",
       "1  3                     1                 10                    \n",
       "2  3                     1                 11                    \n",
       "3  3                     1                 10                    \n",
       "4  3                     1                 10                    \n",
       "\n",
       "   AFEC_GENERO_enc  AFEC_EDADR_enc  ...  ENT_MPIO_DANE_enc  PQR_CLASE_SNS_enc  \\\n",
       "0  0                4               ...  514                0                   \n",
       "1  1                5               ...  514                0                   \n",
       "2  1                8               ...  514                0                   \n",
       "3  1                8               ...  514                0                   \n",
       "4  1                3               ...  514                0                   \n",
       "\n",
       "   MACROMOTIVO_enc  MOTIVO_GENERAL_enc  MOTIVO_ESPECIFICO_enc  \\\n",
       "0  6                33                  101                     \n",
       "1  6                33                  101                     \n",
       "2  6                33                  101                     \n",
       "3  6                33                  101                     \n",
       "4  6                33                  101                     \n",
       "\n",
       "   PATOLOGIA_1_enc  PATOLOGIA_TIPO_enc  CIE_10_enc  PQR_TIPOATENCION_enc  \\\n",
       "0  16               392                 6513        2                      \n",
       "1  16               392                 6513        2                      \n",
       "2  16               392                 6513        2                      \n",
       "3  16               392                 6513        2                      \n",
       "4  16               392                 6513        2                      \n",
       "\n",
       "   RIESGO_VIDA_enc  \n",
       "0  0                \n",
       "1  0                \n",
       "2  0                \n",
       "3  0                \n",
       "4  0                \n",
       "\n",
       "[5 rows x 33 columns]"
      ]
     },
     "execution_count": 2,
     "metadata": {},
     "output_type": "execute_result"
    }
   ],
   "source": [
    "dataset = pd.read_csv(\"datasets/cleaned_dataset.csv\")\n",
    "\n",
    "col_variables = [i for i in dataset.columns if i != 'RIESGO_VIDA_enc']\n",
    "\n",
    "etiquetas = dataset['RIESGO_VIDA_enc']\n",
    "caracteristicas = dataset[col_variables]\n",
    "\n",
    "dataset.head()"
   ]
  },
  {
   "cell_type": "code",
   "execution_count": 3,
   "metadata": {},
   "outputs": [],
   "source": [
    "def train_predict(learner, beta_value, X_train, y_train, X_test, y_test, dfResults):\n",
    "    \n",
    "    start = time()\n",
    "    learner = learner.fit(X_train, y_train)\n",
    "    end = time()\n",
    "\n",
    "    train_time = end - start\n",
    "\n",
    "    start = time()\n",
    "    predictions_test = learner.predict(X_test)\n",
    "    predictions_train = learner.predict(X_train)\n",
    "    end = time() # Get end time\n",
    "\n",
    "    pred_time = end - start\n",
    "\n",
    "    f_train = fbeta_score(y_train, predictions_train, beta_value)\n",
    "\n",
    "    f_test =  fbeta_score(y_test, predictions_test, beta_value)\n",
    "\n",
    "    print(\"Trained. \", learner.__class__.__name__)\n",
    "\n",
    "    dfResults = dfResults.append({'learner': learner.__class__.__name__, 'train_time': train_time, 'pred_time': pred_time, 'Test': f_test, 'Train':f_train}, ignore_index=True)\n",
    "    return learner, dfResults\n",
    "\n",
    "\n",
    "def tune_classifier(clf, parameters, X_train, X_test, y_train, y_test):\n",
    "    \n",
    "    c = y_train.shape\n",
    "    labels = y_train.values.reshape(c,)\n",
    "    \n",
    "    scorer = make_scorer(fbeta_score, beta=2)\n",
    "    \n",
    "    start = time()\n",
    "    \n",
    "    grid_obj = GridSearchCV(clf, param_grid=parameters, scoring=scorer, iid=False)\n",
    "    grid_fit = grid_obj.fit(X_train, labels)\n",
    "    best_clf = grid_fit.best_estimator_\n",
    "    \n",
    "    end = time()\n",
    "    train_time = end - start\n",
    "    print(f\"Tiempo de entrenamiento: {round(train_time/60, 2)} minutos\")\n",
    "    \n",
    "    predictions = (clf.fit(X_train, labels)).predict(X_test)\n",
    "    best_predictions = best_clf.predict(X_test)\n",
    "    \n",
    "    default_score = fbeta_score(y_test, predictions, beta = 2)\n",
    "    tuned_score = fbeta_score(y_test, best_predictions, beta = 2)\n",
    "    \n",
    "    cnf_matrix = confusion_matrix(y_test, best_predictions)\n",
    "    \n",
    "    print(f\"F-score sobre datos de validación: {fbeta_score(y_test, predictions, beta = 2)}\")\n",
    "    print(f\"Final F-score sobre datos de validación: {fbeta_score(y_test, best_predictions, beta = 2)}\")\n",
    "    \n",
    "    return best_clf, default_score, tuned_score, cnf_matrix\n",
    "\n",
    "\n",
    "def plot_confusion_matrix(cm, normalize=False, cmap=plt.cm.Blues):\n",
    "    \"\"\"\n",
    "    This function prints and plots the confusion matrix.\n",
    "    Normalization can be applied by setting `normalize=True`.\n",
    "    \"\"\"\n",
    "    if normalize:\n",
    "        cm = cm.astype('float') / cm.sum(axis=1)[:, np.newaxis]\n",
    "        title = \"\"\n",
    "    else:\n",
    "        title = \"\"\n",
    "\n",
    "    plt.imshow(cm, interpolation='nearest', cmap=cmap)\n",
    "    plt.title(title)\n",
    "    plt.colorbar()\n",
    "\n",
    "    fmt = '.2f' if normalize else 'd'\n",
    "    thresh = cm.max() / 2.\n",
    "    for i, j in itertools.product(range(cm.shape[0]), range(cm.shape[1])):\n",
    "        plt.text(j, i, format(cm[i, j], fmt),\n",
    "                 horizontalalignment=\"center\",\n",
    "                 color=\"white\" if cm[i, j] > thresh else \"black\")\n",
    "\n",
    "    plt.ylabel('Vida en riesgo               Vida no en Riesgo')\n",
    "    plt.xlabel('Vida no en riesgo               Vida en Riesgo')\n",
    "    plt.tight_layout()"
   ]
  },
  {
   "cell_type": "markdown",
   "metadata": {},
   "source": [
    "#### Se verifican que todos los datos estén limpios"
   ]
  },
  {
   "cell_type": "code",
   "execution_count": 4,
   "metadata": {},
   "outputs": [
    {
     "name": "stdout",
     "output_type": "stream",
     "text": [
      "<class 'pandas.core.frame.DataFrame'>\n",
      "RangeIndex: 1102799 entries, 0 to 1102798\n",
      "Data columns (total 33 columns):\n",
      "TRIM_enc                  1102799 non-null int64\n",
      "PQR_CANAL_enc             1102799 non-null int64\n",
      "PET_TIPOPER_enc           1102799 non-null int64\n",
      "PET_DPTO_enc              1102799 non-null int64\n",
      "PET_MPIO_enc              1102799 non-null int64\n",
      "PQR_TIPOPETICION_enc      1102799 non-null int64\n",
      "AFEC_TIPOPER_enc          1102799 non-null int64\n",
      "AFEC_PARENTESCO_enc       1102799 non-null int64\n",
      "AFEC_GENERO_enc           1102799 non-null int64\n",
      "AFEC_EDADR_enc            1102799 non-null int64\n",
      "AFEC_EDUC_enc             1102799 non-null int64\n",
      "AFEC_REGAFILIACION_enc    1102799 non-null int64\n",
      "AFEC_GETNICO_enc          1102799 non-null int64\n",
      "AFEC_POBESPECIAL_enc      1102799 non-null int64\n",
      "AFEC_MPIO_enc             1102799 non-null int64\n",
      "AFEC_DPTO_enc             1102799 non-null int64\n",
      "ENT_NOMBRE_enc            1102799 non-null int64\n",
      "ENT_TIPOVIG_SNS_enc       1102799 non-null int64\n",
      "ENT_COD_SNS_enc           1102799 non-null int64\n",
      "ENT_TIPOVIG_enc           1102799 non-null int64\n",
      "ENT_AMBITOIVC_enc         1102799 non-null int64\n",
      "ENT_DPTO_enc              1102799 non-null int64\n",
      "ENT_MPIO_enc              1102799 non-null int64\n",
      "ENT_MPIO_DANE_enc         1102799 non-null int64\n",
      "PQR_CLASE_SNS_enc         1102799 non-null int64\n",
      "MACROMOTIVO_enc           1102799 non-null int64\n",
      "MOTIVO_GENERAL_enc        1102799 non-null int64\n",
      "MOTIVO_ESPECIFICO_enc     1102799 non-null int64\n",
      "PATOLOGIA_1_enc           1102799 non-null int64\n",
      "PATOLOGIA_TIPO_enc        1102799 non-null int64\n",
      "CIE_10_enc                1102799 non-null int64\n",
      "PQR_TIPOATENCION_enc      1102799 non-null int64\n",
      "RIESGO_VIDA_enc           1102799 non-null int64\n",
      "dtypes: int64(33)\n",
      "memory usage: 277.7 MB\n"
     ]
    }
   ],
   "source": [
    "dataset.info()"
   ]
  },
  {
   "cell_type": "code",
   "execution_count": 5,
   "metadata": {},
   "outputs": [],
   "source": [
    "# Import train_test_split\n",
    "from sklearn.model_selection import train_test_split\n",
    "\n",
    "X_all_train, X_test, y_all_train, y_test = train_test_split(caracteristicas, etiquetas, test_size=0.2, train_size=0.8)  # 20% de test \n",
    "X_train, X_validation, y_train, y_validation = train_test_split(X_all_train, y_all_train, test_size = 0.25,train_size = 0.75)  # 20 de validación, 60 de train"
   ]
  },
  {
   "cell_type": "markdown",
   "metadata": {},
   "source": [
    "## Modelos sin ajuste de hiperparámetros"
   ]
  },
  {
   "cell_type": "code",
   "execution_count": 6,
   "metadata": {},
   "outputs": [
    {
     "name": "stdout",
     "output_type": "stream",
     "text": [
      "Trained.  GaussianNB\n"
     ]
    },
    {
     "name": "stderr",
     "output_type": "stream",
     "text": [
      "/home/juanjosegdoj/miniconda3/lib/python3.7/site-packages/sklearn/ensemble/forest.py:245: FutureWarning: The default value of n_estimators will change from 10 in version 0.20 to 100 in 0.22.\n",
      "  \"10 in version 0.20 to 100 in 0.22.\", FutureWarning)\n"
     ]
    },
    {
     "name": "stdout",
     "output_type": "stream",
     "text": [
      "Trained.  RandomForestClassifier\n",
      "Trained.  AdaBoostClassifier\n"
     ]
    }
   ],
   "source": [
    "from sklearn.ensemble import AdaBoostClassifier\n",
    "from sklearn.ensemble import RandomForestClassifier\n",
    "from sklearn.naive_bayes import GaussianNB\n",
    "\n",
    "# Initialize the three models\n",
    "clf_A = GaussianNB()\n",
    "clf_B = RandomForestClassifier()\n",
    "clf_C = AdaBoostClassifier()\n",
    "\n",
    "# Collect results on the learners\n",
    "dfResults = pd.DataFrame(columns=['learner', 'train_time', 'pred_time', 'Test', 'Train'])\n",
    "\n",
    "for clf in [clf_A, clf_B, clf_C]:\n",
    "    clf_name = clf.__class__.__name__  \n",
    "    clf, dfResults = train_predict(clf, 1, X_train, y_train, X_test, y_test, dfResults)"
   ]
  },
  {
   "cell_type": "code",
   "execution_count": 7,
   "metadata": {},
   "outputs": [
    {
     "data": {
      "text/html": [
       "<div>\n",
       "<style scoped>\n",
       "    .dataframe tbody tr th:only-of-type {\n",
       "        vertical-align: middle;\n",
       "    }\n",
       "\n",
       "    .dataframe tbody tr th {\n",
       "        vertical-align: top;\n",
       "    }\n",
       "\n",
       "    .dataframe thead th {\n",
       "        text-align: right;\n",
       "    }\n",
       "</style>\n",
       "<table border=\"1\" class=\"dataframe\">\n",
       "  <thead>\n",
       "    <tr style=\"text-align: right;\">\n",
       "      <th></th>\n",
       "      <th>learner</th>\n",
       "      <th>train_time</th>\n",
       "      <th>pred_time</th>\n",
       "      <th>Test</th>\n",
       "      <th>Train</th>\n",
       "    </tr>\n",
       "  </thead>\n",
       "  <tbody>\n",
       "    <tr>\n",
       "      <td>0</td>\n",
       "      <td>GaussianNB</td>\n",
       "      <td>0.542429</td>\n",
       "      <td>0.553429</td>\n",
       "      <td>0.470103</td>\n",
       "      <td>0.470136</td>\n",
       "    </tr>\n",
       "    <tr>\n",
       "      <td>1</td>\n",
       "      <td>RandomForestClassifier</td>\n",
       "      <td>18.264339</td>\n",
       "      <td>3.073812</td>\n",
       "      <td>0.718481</td>\n",
       "      <td>0.972989</td>\n",
       "    </tr>\n",
       "    <tr>\n",
       "      <td>2</td>\n",
       "      <td>AdaBoostClassifier</td>\n",
       "      <td>52.383850</td>\n",
       "      <td>6.612434</td>\n",
       "      <td>0.658522</td>\n",
       "      <td>0.659598</td>\n",
       "    </tr>\n",
       "  </tbody>\n",
       "</table>\n",
       "</div>"
      ],
      "text/plain": [
       "                  learner  train_time  pred_time      Test     Train\n",
       "0  GaussianNB              0.542429    0.553429   0.470103  0.470136\n",
       "1  RandomForestClassifier  18.264339   3.073812   0.718481  0.972989\n",
       "2  AdaBoostClassifier      52.383850   6.612434   0.658522  0.659598"
      ]
     },
     "execution_count": 7,
     "metadata": {},
     "output_type": "execute_result"
    }
   ],
   "source": [
    "dfResults"
   ]
  },
  {
   "cell_type": "markdown",
   "metadata": {},
   "source": [
    "# Tuning the model\n",
    "## Tuning RandomForestClassifier"
   ]
  },
  {
   "cell_type": "code",
   "execution_count": 8,
   "metadata": {},
   "outputs": [
    {
     "name": "stdout",
     "output_type": "stream",
     "text": [
      "Tiempo de entrenamiento: 40.4 minutos\n",
      "F-score sobre datos de validación: 0.681985903814262\n",
      "Final F-score sobre datos de validación: 0.7847487934780518\n"
     ]
    },
    {
     "data": {
      "text/plain": [
       "['randomForesteTuned.joblib']"
      ]
     },
     "execution_count": 8,
     "metadata": {},
     "output_type": "execute_result"
    }
   ],
   "source": [
    "from sklearn.metrics import make_scorer\n",
    "\n",
    "rf_classifier = RandomForestClassifier()\n",
    "\n",
    "rfParameters = {    \n",
    "  'criterion':['gini', 'entropy'],\n",
    "  'max_depth':[5, 10, 15, 30],\n",
    "  'max_features':['auto', 'sqrt', 'log2', None],\n",
    "  'class_weight': ['balanced', 'balanced_subsample'], \n",
    "}\n",
    "\n",
    "# run block of code and catch warnings\n",
    "with warnings.catch_warnings():\n",
    "    warnings.filterwarnings(\"ignore\")\n",
    "    rf_classifier, default_rf_score, tuned_rf_score, cnf_rf_matrix = tune_classifier(rf_classifier, rfParameters, X_train, X_validation, y_train, y_validation)\n",
    "    \n",
    "joblib.dump(rf_classifier, 'randomForesteTuned.joblib')"
   ]
  },
  {
   "cell_type": "code",
   "execution_count": 9,
   "metadata": {},
   "outputs": [
    {
     "name": "stdout",
     "output_type": "stream",
     "text": [
      "F-score on testing data: 0.779692903156166\n"
     ]
    },
    {
     "data": {
      "image/png": "[encoded data removed]",
      "text/plain": [
       "<Figure size 432x288 with 2 Axes>"
      ]
     },
     "metadata": {
      "needs_background": "light"
     },
     "output_type": "display_data"
    }
   ],
   "source": [
    "rf_predictions = rf_classifier.predict(X_test)\n",
    "cnf_matrix = confusion_matrix(y_test, rf_predictions)\n",
    "plot_confusion_matrix(cnf_matrix, normalize = True)\n",
    "print(f\"F-score on testing data: {fbeta_score(y_test, rf_predictions, beta = 2)}\")"
   ]
  },
  {
   "cell_type": "markdown",
   "metadata": {},
   "source": [
    "## Tuning Adaboost"
   ]
  },
  {
   "cell_type": "code",
   "execution_count": 19,
   "metadata": {},
   "outputs": [
    {
     "name": "stdout",
     "output_type": "stream",
     "text": [
      "Tiempo de entrenamiento: 39.86 minutos\n",
      "F-score sobre datos de validación: 0.6195465747493922\n",
      "Final F-score sobre datos de validación: 0.6459701344322937\n"
     ]
    },
    {
     "data": {
      "text/plain": [
       "['adaBoostTuned.joblib']"
      ]
     },
     "execution_count": 19,
     "metadata": {},
     "output_type": "execute_result"
    }
   ],
   "source": [
    "from sklearn.ensemble import AdaBoostClassifier\n",
    "ada_classifier = AdaBoostClassifier()\n",
    "\n",
    "adaParameters = {\n",
    "    'algorithm' :['SAMME', 'SAMME.R'],\n",
    "    'n_estimators': [50, 100],\n",
    "    'learning_rate' : [0.01, 0.05, 0.1, 0.3, 1]\n",
    "}\n",
    "with warnings.catch_warnings():\n",
    "    warnings.filterwarnings(\"ignore\")\n",
    "    ada_classifier, default_ada_score, tuned_ada_score, cnf_ada_matrix = tune_classifier(ada_classifier, adaParameters, X_train, X_validation, y_train, y_validation)\n",
    "    \n",
    "joblib.dump(rf_classifier, 'adaBoostTuned.joblib') "
   ]
  },
  {
   "cell_type": "code",
   "execution_count": 20,
   "metadata": {},
   "outputs": [
    {
     "name": "stdout",
     "output_type": "stream",
     "text": [
      "F-score on testing data: 0.6406907349649276\n"
     ]
    },
    {
     "data": {
      "image/png": "[encoded data removed]",
      "text/plain": [
       "<Figure size 432x288 with 2 Axes>"
      ]
     },
     "metadata": {
      "needs_background": "light"
     },
     "output_type": "display_data"
    }
   ],
   "source": [
    "ada_predictions = ada_classifier.predict(X_test)\n",
    "cnf_matrix = confusion_matrix(y_test, ada_predictions)\n",
    "plot_confusion_matrix(cnf_matrix, normalize = True)\n",
    "print(f\"F-score on testing data: {fbeta_score(y_test, ada_predictions, beta = 2)}\")"
   ]
  },
  {
   "cell_type": "markdown",
   "metadata": {},
   "source": [
    "## Tuning a Gaussian Naive Bayes"
   ]
  },
  {
   "cell_type": "code",
   "execution_count": 21,
   "metadata": {},
   "outputs": [
    {
     "name": "stdout",
     "output_type": "stream",
     "text": [
      "CPU times: user 3 µs, sys: 0 ns, total: 3 µs\n",
      "Wall time: 6.44 µs\n"
     ]
    },
    {
     "name": "stderr",
     "output_type": "stream",
     "text": [
      "/home/juanjosegdoj/miniconda3/lib/python3.7/site-packages/sklearn/model_selection/_split.py:1978: FutureWarning: The default value of cv will change from 3 to 5 in version 0.22. Specify it explicitly to silence this warning.\n",
      "  warnings.warn(CV_WARNING, FutureWarning)\n"
     ]
    },
    {
     "name": "stdout",
     "output_type": "stream",
     "text": [
      "Tiempo de entrenamiento: 0.04 minutos\n",
      "F-score sobre datos de validación: 0.6639982152376979\n",
      "Final F-score sobre datos de validación: 0.6639982152376979\n"
     ]
    }
   ],
   "source": [
    "gauss_classifier = GaussianNB()\n",
    "\n",
    "gaussParameters = {\n",
    "  'priors':[None],\n",
    "  'var_smoothing' :[1e-09]\n",
    "}\n",
    "%time\n",
    "gauss_classifier, default_gauss_score, tuned_gauss_score, cnf_gauss_matrix = tune_classifier(gauss_classifier, gaussParameters,  X_train, X_test, y_train, y_test)"
   ]
  },
  {
   "cell_type": "code",
   "execution_count": 22,
   "metadata": {},
   "outputs": [
    {
     "name": "stdout",
     "output_type": "stream",
     "text": [
      "F-score on testing data: 0.6639982152376979\n"
     ]
    },
    {
     "data": {
      "image/png": "[encoded data removed]",
      "text/plain": [
       "<Figure size 432x288 with 2 Axes>"
      ]
     },
     "metadata": {
      "needs_background": "light"
     },
     "output_type": "display_data"
    }
   ],
   "source": [
    "gauss_predictions = gauss_classifier.predict(X_test)\n",
    "cnf_matrix = confusion_matrix(y_test, gauss_predictions)\n",
    "plot_confusion_matrix(cnf_matrix, normalize = True)\n",
    "print(f\"F-score on testing data: {fbeta_score(y_test, gauss_predictions, beta = 2)}\")"
   ]
  },
  {
   "cell_type": "markdown",
   "metadata": {},
   "source": [
    "# Stacking\n",
    "## Stacking with to best classifiers: Random Forest and Adaboost"
   ]
  },
  {
   "cell_type": "code",
   "execution_count": 23,
   "metadata": {},
   "outputs": [],
   "source": [
    "def get_stack_two(clf_1, clf_2, X_train, X_test, y_train, y_test):\n",
    "    sclf = StackingClassifier(classifiers=[clf_1, clf_2],\n",
    "                          use_features_in_secondary = True,\n",
    "                          meta_classifier=RandomForestClassifier())\n",
    "    sclf = sclf.fit(X_train, y_train)\n",
    "    y_predictions = sclf.predict(X_test)\n",
    "    return sclf, fbeta_score(y_test, y_predictions, beta = 2)\n",
    "\n",
    "def get_stack_all(clf_1, clf_2, clf_3, X_train, X_test, y_train, y_test):\n",
    "    sclf = StackingClassifier(classifiers=[clf_1, clf_2, clf_3],\n",
    "                          use_features_in_secondary = True,\n",
    "                          meta_classifier= RandomForestClassifier())\n",
    "    sclf = sclf.fit(X_train, y_train)\n",
    "    y_predictions = sclf.predict(X_test)\n",
    "    return sclf, fbeta_score(y_test, y_predictions, beta = 2)\n",
    "\n",
    "\n",
    "def model_validation(model_path, X_validation, y_validation):\n",
    "    clf = joblib.load(model_path)\n",
    "\n",
    "    y_predictions = clf.predict(X_validation)\n",
    "\n",
    "    print(f\"F-score on validation data: {fbeta_score(y_validation, y_predictions, beta = 2)}\")\n",
    "\n",
    "    cnf_matrix = confusion_matrix(y_validation, y_predictions)\n",
    "    plot_confusion_matrix(cnf_matrix, normalize=True)\n",
    "    return clf"
   ]
  },
  {
   "cell_type": "code",
   "execution_count": 24,
   "metadata": {},
   "outputs": [
    {
     "name": "stderr",
     "output_type": "stream",
     "text": [
      "/home/juanjosegdoj/miniconda3/lib/python3.7/site-packages/sklearn/ensemble/forest.py:245: FutureWarning: The default value of n_estimators will change from 10 in version 0.20 to 100 in 0.22.\n",
      "  \"10 in version 0.20 to 100 in 0.22.\", FutureWarning)\n"
     ]
    }
   ],
   "source": [
    "sclf_two, sclf_score = get_stack_two(rf_classifier, ada_classifier, X_train, X_test, y_train, y_test)"
   ]
  },
  {
   "cell_type": "code",
   "execution_count": 25,
   "metadata": {},
   "outputs": [
    {
     "name": "stdout",
     "output_type": "stream",
     "text": [
      "F-score on validation data: 0.6954432504484342\n"
     ]
    },
    {
     "data": {
      "image/png": "[encoded data removed]",
      "text/plain": [
       "<Figure size 432x288 with 2 Axes>"
      ]
     },
     "metadata": {
      "needs_background": "light"
     },
     "output_type": "display_data"
    }
   ],
   "source": [
    "joblib.dump(sclf_two, 'sclf_two.joblib') \n",
    "\n",
    "model_validation('sclf_two.joblib', X_test, y_test);"
   ]
  },
  {
   "cell_type": "markdown",
   "metadata": {},
   "source": [
    "## Stacking with all classifiers"
   ]
  },
  {
   "cell_type": "code",
   "execution_count": 26,
   "metadata": {},
   "outputs": [
    {
     "name": "stderr",
     "output_type": "stream",
     "text": [
      "/home/juanjosegdoj/miniconda3/lib/python3.7/site-packages/sklearn/ensemble/forest.py:245: FutureWarning: The default value of n_estimators will change from 10 in version 0.20 to 100 in 0.22.\n",
      "  \"10 in version 0.20 to 100 in 0.22.\", FutureWarning)\n"
     ]
    }
   ],
   "source": [
    "from mlxtend.classifier import StackingClassifier\n",
    "from sklearn.naive_bayes import GaussianNB\n",
    "from sklearn import model_selection\n",
    "from sklearn.metrics import fbeta_score, make_scorer\n",
    "\n",
    "#meta with Gaussian\n",
    "sclf2 = StackingClassifier(classifiers=[rf_classifier, ada_classifier, gauss_classifier], \n",
    "                          use_features_in_secondary = True,\n",
    "                          meta_classifier=RandomForestClassifier(random_state = 17))\n",
    "sclf2 = sclf2.fit(X_train, y_train)"
   ]
  },
  {
   "cell_type": "code",
   "execution_count": 27,
   "metadata": {},
   "outputs": [
    {
     "name": "stdout",
     "output_type": "stream",
     "text": [
      "F-score on testing data: 0.6639982152376979\n"
     ]
    },
    {
     "data": {
      "image/png": "[encoded data removed]",
      "text/plain": [
       "<Figure size 432x288 with 2 Axes>"
      ]
     },
     "metadata": {
      "needs_background": "light"
     },
     "output_type": "display_data"
    }
   ],
   "source": [
    "sclf2_predictions = sclf2.predict(X_test)\n",
    "cnf_matrix = confusion_matrix(y_test, gauss_predictions)\n",
    "plot_confusion_matrix(cnf_matrix, normalize = True)\n",
    "print(f\"F-score on testing data: {fbeta_score(y_test, gauss_predictions, beta = 2)}\")"
   ]
  },
  {
   "cell_type": "code",
   "execution_count": null,
   "metadata": {},
   "outputs": [],
   "source": []
  },
  {
   "cell_type": "code",
   "execution_count": null,
   "metadata": {},
   "outputs": [],
   "source": []
  },
  {
   "cell_type": "code",
   "execution_count": null,
   "metadata": {},
   "outputs": [],
   "source": []
  },
  {
   "cell_type": "code",
   "execution_count": null,
   "metadata": {},
   "outputs": [],
   "source": []
  },
  {
   "cell_type": "code",
   "execution_count": null,
   "metadata": {},
   "outputs": [],
   "source": []
  }
 ],
 "metadata": {
  "kernelspec": {
   "display_name": "Python 3",
   "language": "python",
   "name": "python3"
  },
  "language_info": {
   "codemirror_mode": {
    "name": "ipython",
    "version": 3
   },
   "file_extension": ".py",
   "mimetype": "text/x-python",
   "name": "python",
   "nbconvert_exporter": "python",
   "pygments_lexer": "ipython3",
   "version": "3.7.3"
  }
 },
 "nbformat": 4,
 "nbformat_minor": 4
}
